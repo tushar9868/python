{
  "nbformat": 4,
  "nbformat_minor": 0,
  "metadata": {
    "colab": {
      "name": "Faulty_calculator.ipynb",
      "provenance": [],
      "authorship_tag": "ABX9TyObdOWz/qPj5YYN5Gl6VZT5",
      "include_colab_link": true
    },
    "kernelspec": {
      "name": "python3",
      "display_name": "Python 3"
    },
    "language_info": {
      "name": "python"
    }
  },
  "cells": [
    {
      "cell_type": "markdown",
      "metadata": {
        "id": "view-in-github",
        "colab_type": "text"
      },
      "source": [
        "<a href=\"https://colab.research.google.com/github/tushar9868/python/blob/main/Faulty_calculator.ipynb\" target=\"_parent\"><img src=\"https://colab.research.google.com/assets/colab-badge.svg\" alt=\"Open In Colab\"/></a>"
      ]
    },
    {
      "cell_type": "code",
      "execution_count": null,
      "metadata": {
        "id": "cVheN8kn16Wv",
        "outputId": "99944228-2712-4b86-fcc2-5d292439b5df",
        "colab": {
          "base_uri": "https://localhost:8080/"
        }
      },
      "outputs": [
        {
          "name": "stdout",
          "output_type": "stream",
          "text": [
            "Welcome, You Calculator is ready to serve you !\n",
            "Please enter First number : 2\n",
            "Please enter Second number : 2\n"
          ]
        }
      ],
      "source": [
        "### Faulty Calculator ###\n",
        "# Designed a calculator which will correctly solve all the problems except\n",
        "# the following ones:\n",
        "# 37 * 9 = 305, 48 + 4 = 11, 96/6 = 4\n",
        "# The program will take operator  and the two numbers as input from the user\n",
        "# and then return the result\n",
        "\n",
        "\n",
        "Calculator_On = True\n",
        "print('Welcome, You Calculator is ready to serve you !')\n",
        "while(Calculator_On==True):\n",
        "    x = int(input('Please enter First number : '))\n",
        "    y = int(input('Please enter Second number : '))\n",
        "    operator = input('Please Select Operator from these { +, /, *, -} : ')\n",
        "\n",
        "    # Output Part\n",
        "    if(operator == '*'):\n",
        "        if(x == 37 and y == 9):\n",
        "            print('Output : ',305)\n",
        "        else:\n",
        "            print('Output : ',x*y)\n",
        "    elif(operator == '/'):\n",
        "        if(x == 96 and y == 6):\n",
        "            print('Output : ',10)\n",
        "        else:\n",
        "            print('Output : ',x/y)\n",
        "    elif(operator == '+'):\n",
        "        if(x == 48 and y == 4):\n",
        "            print('Output : ',11)\n",
        "        else:\n",
        "            print('Output : ',x+y)\n",
        "    elif(operator == '-'):\n",
        "        print('Output : ',x-y)\n",
        "    \n",
        "    print(' Do you want to calculate again?','\\n','Please type 1 for YES or 0 for NO.')\n",
        "    Calculator_On = int(input())\n",
        "    if(Calculator_On == False):\n",
        "        print('Thank you, Hope you will use me again !')"
      ]
    }
  ]
}